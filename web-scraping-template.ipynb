{
 "cells": [
  {
   "cell_type": "markdown",
   "metadata": {},
   "source": [
    "# Introduction to web scraping using Python\n",
    "## QUT DMRC - 2016\n",
    "\n",
    "### Extract text data from a web page\n",
    "\n",
    "This notebook gets a page from a website and then extracts data from that page. Adapt the notebook to fit you particular web scraping project"
   ]
  },
  {
   "cell_type": "markdown",
   "metadata": {},
   "source": [
    "This is the webpage we're using for this exercise: [metacritic website](http://www.metacritic.com/browse/albums/artist/a)"
   ]
  },
  {
   "cell_type": "code",
   "execution_count": null,
   "metadata": {
    "collapsed": false
   },
   "outputs": [],
   "source": [
    "# Import the Python modules required to extract data from the website.\n",
    "from bs4 import BeautifulSoup\n",
    "from requests import get"
   ]
  },
  {
   "cell_type": "markdown",
   "metadata": {},
   "source": [
    "The next steps build up the URL that has the information we want. The sections of the url that we will want to change to get more pages of information are kept seperate so we can change them more easily."
   ]
  },
  {
   "cell_type": "code",
   "execution_count": null,
   "metadata": {
    "collapsed": false
   },
   "outputs": [],
   "source": [
    "# this is the url\n",
    "the_url = \"http://www.metacritic.com/browse/albums/artist/a\"\n",
    "#the_url = \"http://www.news.com.au/national\""
   ]
  },
  {
   "cell_type": "markdown",
   "metadata": {},
   "source": [
    "These steps get the page using [Requests](http://docs.python-requests.org/en/latest/) and then process it using [BeautifulSoup](http://www.crummy.com/software/BeautifulSoup/)."
   ]
  },
  {
   "cell_type": "code",
   "execution_count": null,
   "metadata": {
    "collapsed": false
   },
   "outputs": [],
   "source": [
    "# the bot pretends to be a standard Mozilla browser\n",
    "hdrs = {\"User-Agent\": \"Mozilla/5.0\"}"
   ]
  },
  {
   "cell_type": "code",
   "execution_count": null,
   "metadata": {
    "collapsed": false
   },
   "outputs": [],
   "source": [
    "# call the url\n",
    "stuff = get(the_url, headers=hdrs)"
   ]
  },
  {
   "cell_type": "code",
   "execution_count": null,
   "metadata": {
    "collapsed": true
   },
   "outputs": [],
   "source": [
    "# transform to soup using html.parser parser\n",
    "soup = BeautifulSoup(stuff.text, \"html.parser\")"
   ]
  },
  {
   "cell_type": "markdown",
   "metadata": {},
   "source": [
    "### Let's search for specific tags in the beautiful soup!"
   ]
  },
  {
   "cell_type": "code",
   "execution_count": null,
   "metadata": {
    "collapsed": true
   },
   "outputs": [],
   "source": [
    "# Search for p tags\n",
    "lotsofitems = soup.find_all(\"p\")"
   ]
  },
  {
   "cell_type": "code",
   "execution_count": null,
   "metadata": {
    "collapsed": false
   },
   "outputs": [],
   "source": [
    "# How many items did you find?\n",
    "len(lotsofitems)"
   ]
  },
  {
   "cell_type": "code",
   "execution_count": null,
   "metadata": {
    "collapsed": false
   },
   "outputs": [],
   "source": [
    "# have a look at the first one in the list (starts with \"0\")\n",
    "lotsofitems[0]"
   ]
  },
  {
   "cell_type": "markdown",
   "metadata": {},
   "source": [
    "\n",
    "### Let's search for div tags"
   ]
  },
  {
   "cell_type": "code",
   "execution_count": null,
   "metadata": {
    "collapsed": true
   },
   "outputs": [],
   "source": [
    "# Search for div tags\n",
    "lotsofitems = soup.find_all(\"div\")"
   ]
  },
  {
   "cell_type": "code",
   "execution_count": null,
   "metadata": {
    "collapsed": false
   },
   "outputs": [],
   "source": [
    "# How many did we find\n",
    "len(lotsofitems)"
   ]
  },
  {
   "cell_type": "markdown",
   "metadata": {},
   "source": [
    "\n",
    "### Search for div tags with specific attributes (e.g. \"id\")"
   ]
  },
  {
   "cell_type": "code",
   "execution_count": null,
   "metadata": {
    "collapsed": true
   },
   "outputs": [],
   "source": [
    "# find all div-tags with a certain id\n",
    "# note that this is just an example, you need to change the id value to something\n",
    "# that makes sense for the web page you are scraping\n",
    "lotsofitems = soup.find_all(\"div\", id=\"side\")"
   ]
  },
  {
   "cell_type": "code",
   "execution_count": null,
   "metadata": {
    "collapsed": false
   },
   "outputs": [],
   "source": [
    "# How many did we find\n",
    "len(lotsofitems)"
   ]
  },
  {
   "cell_type": "markdown",
   "metadata": {},
   "source": [
    "\n",
    "### Search for div tags with specific attributes (e.g. \"class\")"
   ]
  },
  {
   "cell_type": "code",
   "execution_count": null,
   "metadata": {
    "collapsed": false
   },
   "outputs": [],
   "source": [
    "# Find all div-tags of a certain class.\n",
    "# class is a reserved word in Python so you have to write class_ instead\n",
    "# note that this is just an example, you need to change the class value to something\n",
    "# that makes sense for the web page you are scraping\n",
    "lotsofitems = soup.find_all(\"div\",class_=\"product_wrap\")"
   ]
  },
  {
   "cell_type": "code",
   "execution_count": null,
   "metadata": {
    "collapsed": false
   },
   "outputs": [],
   "source": [
    "# How many did we find\n",
    "len(lotsofitems)"
   ]
  },
  {
   "cell_type": "code",
   "execution_count": null,
   "metadata": {
    "collapsed": false
   },
   "outputs": [],
   "source": [
    "# have a look at the first item in the list\n",
    "# Try changing the index (between the []) to any number that is lower than the number of items in the list\n",
    "lotsofitems[0]"
   ]
  },
  {
   "cell_type": "code",
   "execution_count": null,
   "metadata": {
    "collapsed": true
   },
   "outputs": [],
   "source": [
    "# Try changing the index (between the []) to any number that is lower than the number of items in the list\n",
    "temptext = lotsofitems[0].get_text()"
   ]
  },
  {
   "cell_type": "markdown",
   "metadata": {
    "collapsed": true
   },
   "source": [
    "##  "
   ]
  },
  {
   "cell_type": "code",
   "execution_count": null,
   "metadata": {
    "collapsed": false
   },
   "outputs": [],
   "source": [
    "# dig deeper into the structure and extract the first div-tag from the first item\n",
    "# Try changing the index (between the []) to any number that is lower than the number of items in the list\n",
    "thedata = lotsofitems[0].find(\"div\",class_=\"product_title\")"
   ]
  },
  {
   "cell_type": "code",
   "execution_count": null,
   "metadata": {
    "collapsed": false
   },
   "outputs": [],
   "source": [
    "# check out the contents of the tag\n",
    "thedata"
   ]
  },
  {
   "cell_type": "code",
   "execution_count": null,
   "metadata": {
    "collapsed": false
   },
   "outputs": [],
   "source": [
    "# extract the text from this tag\n",
    "temptext = thedata.get_text()"
   ]
  },
  {
   "cell_type": "code",
   "execution_count": null,
   "metadata": {
    "collapsed": false
   },
   "outputs": [],
   "source": [
    "# Clean up the string\n",
    "clean_text = temptext.strip()\n",
    "print(clean_text)"
   ]
  },
  {
   "cell_type": "markdown",
   "metadata": {
    "collapsed": true
   },
   "source": [
    "##  "
   ]
  },
  {
   "cell_type": "code",
   "execution_count": null,
   "metadata": {
    "collapsed": true
   },
   "outputs": [],
   "source": [
    "# open a file to save the data\n",
    "f = open(\"mydata.csv\",\"w\")"
   ]
  },
  {
   "cell_type": "code",
   "execution_count": null,
   "metadata": {
    "collapsed": false
   },
   "outputs": [],
   "source": [
    "# iterate across 'lotsofitems' and extract the text from all items in the list\n",
    "f.write('\"title\",\"artist\",\"score\"\\n')\n",
    "for an_item in lotsofitems:\n",
    "\n",
    "    thedata = an_item.find(\"div\",class_=\"product_title\")\n",
    "    temptext = thedata.get_text()\n",
    "    title = temptext.strip()\n",
    "\n",
    "    thedata = an_item.find(\"div\",class_=\"metascore_w\")\n",
    "    temptext = thedata.get_text()\n",
    "    score = temptext.strip()\n",
    "    \n",
    "    thedata = an_item.find(\"li\",class_=\"product_artist\")\n",
    "    thedata = thedata.find(\"span\",class_=\"data\")\n",
    "    temptext = thedata.get_text()\n",
    "    artist = temptext.strip()\n",
    "    \n",
    "    f.write('\"'+artist+'\",\"'+title+'\",\"'+score+'\"\\n')"
   ]
  },
  {
   "cell_type": "code",
   "execution_count": null,
   "metadata": {
    "collapsed": true
   },
   "outputs": [],
   "source": [
    "# close the file when we're done\n",
    "f.close()"
   ]
  },
  {
   "cell_type": "code",
   "execution_count": null,
   "metadata": {
    "collapsed": true
   },
   "outputs": [],
   "source": []
  }
 ],
 "metadata": {
  "kernelspec": {
   "display_name": "Python 3",
   "language": "python",
   "name": "python3"
  },
  "language_info": {
   "codemirror_mode": {
    "name": "ipython",
    "version": 3
   },
   "file_extension": ".py",
   "mimetype": "text/x-python",
   "name": "python",
   "nbconvert_exporter": "python",
   "pygments_lexer": "ipython3",
   "version": "3.4.1"
  }
 },
 "nbformat": 4,
 "nbformat_minor": 0
}
