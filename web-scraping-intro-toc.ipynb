{
 "cells": [
  {
   "cell_type": "markdown",
   "metadata": {},
   "source": [
    "![QUT DMRC 2016](https://www.dropbox.com/s/gpl9miikncu2235/QUTDMRC_logo_s1.png?raw=1 \"QUT DMRC 2016\" )\n",
    " \n",
    "# Introduction to web scraping with Python\n",
    "\n",
    "We have created a series of notebooks that in eight steps build up a scraper that gets content from the Metacritic website (http://www.metacritic.com/browse/albums/artist), extracts the fields that we are interested in, and then stores the results.\n",
    "\n",
    "### Notebooks\n",
    "\n",
    "* Step 1. [Extract album title from a single item on a single page](web-scraping-intro-step1.ipynb)\n",
    "* Step 2. [Extract all album titles on a single page](web-scraping-intro-step2.ipynb)\n",
    "* Step 3. [Extract all review data from a single page](web-scraping-intro-step3.ipynb)\n",
    "* Step 4. [Structure the data extraction as a function](web-scraping-intro-step4.ipynb)\n",
    "* Step 5. [Store the data in a dataframe and save to disk](web-scraping-intro-step5.ipynb)\n",
    "* Step 6. [Restructure the code for clarity](web-scraping-intro-step6.ipynb)\n",
    "* Step 7. [Plotting, tiny stat analysis and improved I/O](web-scraping-intro-step7.ipynb)\n",
    "* Final. [Support for multiple pages](web-scraping-intro-final.ipynb)\n",
    "\n",
    "\n",
    "### Python modules used in this workshop\n",
    "\n",
    "We use three Python modules in these notebooks. The full documentation for each is available on their websites:\n",
    "\n",
    "* [Requests](http://docs.python-requests.org/en/latest/) - get webpages from urls\n",
    "* [BeautifulSoup](http://www.crummy.com/software/BeautifulSoup/) - select text out of webpages\n",
    "* [Pandas](http://pandas.pydata.org/) - python data analysis library\n",
    "\n",
    "This is a link back to the [dashboard](../tree) for this workshop. (The link only works if this notebook is run via Binder)\n",
    "\n"
   ]
  },
  {
   "cell_type": "code",
   "execution_count": null,
   "metadata": {
    "collapsed": true
   },
   "outputs": [],
   "source": []
  }
 ],
 "metadata": {
  "kernelspec": {
   "display_name": "Python 3",
   "language": "python",
   "name": "python3"
  },
  "language_info": {
   "codemirror_mode": {
    "name": "ipython",
    "version": 3
   },
   "file_extension": ".py",
   "mimetype": "text/x-python",
   "name": "python",
   "nbconvert_exporter": "python",
   "pygments_lexer": "ipython3",
   "version": "3.4.1"
  }
 },
 "nbformat": 4,
 "nbformat_minor": 0
}
