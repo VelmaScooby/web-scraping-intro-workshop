{
 "cells": [
  {
   "cell_type": "markdown",
   "metadata": {},
   "source": [
    "# AoIR IR16 pre-conference workshop - Web Scraping \n",
    "\n",
    "## QUT DMRC - 2015\n",
    "\n",
    "### Extract all review data from a single page\n",
    "\n",
    "Extend from getting just the title field to getting all the fields we are interested in from each item."
   ]
  },
  {
   "cell_type": "code",
   "execution_count": 1,
   "metadata": {},
   "outputs": [],
   "source": [
    "import bs4\n",
    "import requests"
   ]
  },
  {
   "cell_type": "code",
   "execution_count": 2,
   "metadata": {},
   "outputs": [],
   "source": [
    "# this is the base_url\n",
    "\n",
    "base_url = \"http://www.metacritic.com/browse/albums/artist\""
   ]
  },
  {
   "cell_type": "code",
   "execution_count": 3,
   "metadata": {},
   "outputs": [],
   "source": [
    "# select which page to scrape based on the first letter of the artist names\n",
    "lett = \"/a\""
   ]
  },
  {
   "cell_type": "code",
   "execution_count": 4,
   "metadata": {},
   "outputs": [],
   "source": [
    "# build the url (only scrape the first page - page 0)\n",
    "thepage = base_url+lett+\"?page=0\""
   ]
  },
  {
   "cell_type": "code",
   "execution_count": 5,
   "metadata": {},
   "outputs": [],
   "source": [
    "# the bot pretends to be a standard Mozilla browser\n",
    "hdrs = {\"User-Agent\": \"Mozilla/5.0\"}"
   ]
  },
  {
   "cell_type": "code",
   "execution_count": 6,
   "metadata": {},
   "outputs": [],
   "source": [
    "# call the url\n",
    "stuff = requests.get(thepage, headers=hdrs)"
   ]
  },
  {
   "cell_type": "code",
   "execution_count": 7,
   "metadata": {},
   "outputs": [],
   "source": [
    "# transform to soup using html.parser parser\n",
    "soup = bs4.BeautifulSoup(stuff.text, \"html.parser\")"
   ]
  },
  {
   "cell_type": "code",
   "execution_count": 8,
   "metadata": {},
   "outputs": [],
   "source": [
    "#try to find all div-tags of class \"product_wrap\"\n",
    "lotsofitems = soup.find_all(\"div\",class_=[\"product_wrap\"])"
   ]
  },
  {
   "cell_type": "markdown",
   "metadata": {},
   "source": [
    "Now process ```lotsofitems``` in a new way to get more fields for all of the items."
   ]
  },
  {
   "cell_type": "code",
   "execution_count": 9,
   "metadata": {},
   "outputs": [],
   "source": [
    "# in this step we'll scrape artist_name, release_date, mc_score, user_score, \n",
    "# url in addition to album_name\n",
    "thelist = []\n",
    "for an_item in lotsofitems: \n",
    "    theitem = []\n",
    "\n",
    "    thetitle = an_item.find(\"div\",class_=\"product_title\")\n",
    "\n",
    "    \n",
    "    # artist_name\n",
    "    temptemp = an_item.find(\"li\",class_=\"product_artist\")\n",
    "    theitem += [temptemp.find(\"span\",class_=[\"data\"]).get_text()]\n",
    "\n",
    "    thetitle = an_item.find(\"div\",class_=\"product_title\")\n",
    "\n",
    "    # album_name\n",
    "    temptemp = thetitle.get_text()\n",
    "    temptemp = temptemp.split()\n",
    "    theitem += [\" \".join(temptemp)]\n",
    "        \n",
    "    # release_date\n",
    "    temptemp = an_item.find(\"li\",class_=\"release_date\")\n",
    "    theitem += [temptemp.find(\"span\",class_=[\"data\"]).get_text()]\n",
    "        \n",
    "    # mc_score\n",
    "    theitem += [an_item.find(\"div\",class_=\"metascore_w\").get_text()]\n",
    "\n",
    "    # user_score\n",
    "    temptemp = an_item.find(\"li\",class_=\"product_avguserscore\")\n",
    "    theitem += [temptemp.find(\"span\",class_=[\"data\"]).get_text()]\n",
    "        \n",
    "    # url\n",
    "    theitem += [\"http://www.metacritic.com\"+thetitle.a.attrs[\"href\"]]\n",
    "\n",
    "    thelist += [theitem]"
   ]
  },
  {
   "cell_type": "code",
   "execution_count": 10,
   "metadata": {},
   "outputs": [
    {
     "data": {
      "text/plain": [
       "[[u'A Camp',\n  u'Colonia',\n  u'Apr 28, 2009',\n  u'64',\n  u'9.0',\n  u'http://www.metacritic.com/music/colonia/a-camp'],\n [u'A Classic Education',\n  u'Call It Blazing',\n  u'Oct 24, 2011',\n  u'81',\n  u'tbd',\n  u'http://www.metacritic.com/music/call-it-blazing/a-classic-education'],\n [u'A Day to Remember',\n  u'Common Courtesy',\n  u'Nov 25, 2013',\n  u'80',\n  u'8.4',\n  u'http://www.metacritic.com/music/common-courtesy/a-day-to-remember'],\n [u'A Fine Frenzy',\n  u'Pines',\n  u'Oct 16, 2012',\n  u'66',\n  u'tbd',\n  u'http://www.metacritic.com/music/pines/a-fine-frenzy'],\n [u'A Great Big Pile of Leaves',\n  u\"You're Always on My Mind\",\n  u'Jul  1, 2013',\n  u'72',\n  u'tbd',\n  u'http://www.metacritic.com/music/youre-always-on-my-mind/a-great-big-pile-of-leaves'],\n [u'A Gun Called Tension',\n  u'A Gun Called Tension',\n  u'Feb 22, 2005',\n  u'71',\n  u'tbd',\n  u'http://www.metacritic.com/music/a-gun-called-tension/a-gun-called-tension'],\n [u'A Guy Called Gerald',\n  u'Essence',\n  u'Aug 29, 2000',\n  u'76',\n  u'tbd',\n  u'http://www.metacritic.com/music/essence/a-guy-called-gerald'],\n [u'A Hawk and a Hacksaw',\n  u'Darkness At Noon',\n  u'Apr  5, 2005',\n  u'73',\n  u'tbd',\n  u'http://www.metacritic.com/music/darkness-at-noon/a-hawk-and-a-hacksaw'],\n [u'A Hawk and a Hacksaw',\n  u'The Way The Wind Blows',\n  u'Oct 17, 2006',\n  u'80',\n  u'8.8',\n  u'http://www.metacritic.com/music/the-way-the-wind-blows/a-hawk-and-a-hacksaw'],\n [u'A Hawk and a Hacksaw',\n  u'Cervantine',\n  u'Feb 15, 2011',\n  u'81',\n  u'tbd',\n  u'http://www.metacritic.com/music/cervantine/a-hawk-and-a-hacksaw'],\n [u'A Hawk and a Hacksaw',\n  u'You Have Already Gone to the Other World',\n  u'Apr  2, 2013',\n  u'74',\n  u'tbd',\n  u'http://www.metacritic.com/music/you-have-already-gone-to-the-other-world/a-hawk-and-a-hacksaw'],\n [u'A Pale Horse Named Death',\n  u'And Hell Will Follow Me',\n  u'Jun 14, 2011',\n  u'tbd',\n  u'tbd',\n  u'http://www.metacritic.com/music/and-hell-will-follow-me/a-pale-horse-named-death'],\n [u'A Perfect Circle',\n  u'Thirteenth Step',\n  u'Sep 16, 2003',\n  u'74',\n  u'9.1',\n  u'http://www.metacritic.com/music/thirteenth-step/a-perfect-circle'],\n [u'A Perfect Circle',\n  u'eMOTIVe',\n  u'Nov  2, 2004',\n  u'62',\n  u'6.6',\n  u'http://www.metacritic.com/music/emotive/a-perfect-circle'],\n [u'A Place to Bury Strangers',\n  u'A Place To Bury Strangers',\n  u'Aug  7, 2007',\n  u'80',\n  u'9.0',\n  u'http://www.metacritic.com/music/a-place-to-bury-strangers/a-place-to-bury-strangers'],\n [u'A Place to Bury Strangers',\n  u'Exploding Head',\n  u'Oct  6, 2009',\n  u'79',\n  u'8.9',\n  u'http://www.metacritic.com/music/exploding-head/a-place-to-bury-strangers'],\n [u'A Place to Bury Strangers',\n  u'Onwards to the Wall [EP]',\n  u'Feb  7, 2012',\n  u'75',\n  u'6.6',\n  u'http://www.metacritic.com/music/onwards-to-the-wall-ep/a-place-to-bury-strangers'],\n [u'A Place to Bury Strangers',\n  u'Worship',\n  u'Jun 26, 2012',\n  u'69',\n  u'6.8',\n  u'http://www.metacritic.com/music/worship/a-place-to-bury-strangers'],\n [u'A Place to Bury Strangers',\n  u'Transfixiation',\n  u'Feb 17, 2015',\n  u'65',\n  u'7.0',\n  u'http://www.metacritic.com/music/transfixiation/a-place-to-bury-strangers'],\n [u'A Sunny Day in Glasgow',\n  u'Ashes Grammar',\n  u'Sep 15, 2009',\n  u'77',\n  u'8.3',\n  u'http://www.metacritic.com/music/ashes-grammar/a-sunny-day-in-glasgow'],\n [u'A Sunny Day in Glasgow',\n  u'Nitetime Rainbows [EP]',\n  u'Mar  2, 2010',\n  u'70',\n  u'tbd',\n  u'http://www.metacritic.com/music/nitetime-rainbows-ep/a-sunny-day-in-glasgow'],\n [u'A Sunny Day in Glasgow',\n  u'Autumn, Again',\n  u'Oct 19, 2010',\n  u'58',\n  u'8.5',\n  u'http://www.metacritic.com/music/autumn-again/a-sunny-day-in-glasgow'],\n [u'A Sunny Day in Glasgow',\n  u'Sea When Absent',\n  u'Jun 24, 2014',\n  u'82',\n  u'8.2',\n  u'http://www.metacritic.com/music/sea-when-absent/a-sunny-day-in-glasgow'],\n [u'A Wilhelm Scream',\n  u'Partycrasher',\n  u'Nov  5, 2013',\n  u'86',\n  u'tbd',\n  u'http://www.metacritic.com/music/partycrasher/a-wilhelm-scream'],\n [u'A Winged Victory for the Sullen',\n  u'A Winged Victory for the Sullen',\n  u'Sep 13, 2011',\n  u'83',\n  u'tbd',\n  u'http://www.metacritic.com/music/a-winged-victory-for-the-sullen/a-winged-victory-for-the-sullen'],\n [u'A Winged Victory for the Sullen',\n  u'Atomos',\n  u'Oct  7, 2014',\n  u'81',\n  u'7.5',\n  u'http://www.metacritic.com/music/atomos/a-winged-victory-for-the-sullen'],\n [u'A$AP Ferg',\n  u'Trap Lord',\n  u'Aug 20, 2013',\n  u'72',\n  u'7.1',\n  u'http://www.metacritic.com/music/trap-lord/aap-ferg'],\n [u'A$AP Rocky',\n  u'Live Love A$AP',\n  u'Oct 31, 2011',\n  u'83',\n  u'8.5',\n  u'http://www.metacritic.com/music/live-love-aap/aap-rocky'],\n [u'A$AP Rocky',\n  u'Long.Live.A$AP',\n  u'Jan 15, 2013',\n  u'75',\n  u'7.6',\n  u'http://www.metacritic.com/music/longliveaap/aap-rocky'],\n [u'A$AP Rocky',\n  u'At.Long.Last.A$AP',\n  u'May 26, 2015',\n  u'76',\n  u'8.1',\n  u'http://www.metacritic.com/music/atlonglastaap/aap-rocky'],\n [u'A*Teens',\n  u'Teen Spirit',\n  u'Feb 27, 2001',\n  u'tbd',\n  u'7.1',\n  u'http://www.metacritic.com/music/teen-spirit/ateens'],\n [u'a-ha',\n  u'Foot Of The Mountain',\n  u'Jul 27, 2009',\n  u'61',\n  u'8.4',\n  u'http://www.metacritic.com/music/foot-of-the-mountain/a-ha'],\n [u'A.A. Bondy',\n  u\"When The Devil's Loose\",\n  u'Sep  1, 2009',\n  u'75',\n  u'8.4',\n  u'http://www.metacritic.com/music/when-the-devils-loose/aa-bondy'],\n [u'A.A. Bondy',\n  u'Believers',\n  u'Sep 13, 2011',\n  u'80',\n  u'7.8',\n  u'http://www.metacritic.com/music/believers/aa-bondy'],\n [u'A.C. Newman',\n  u'The Slow Wonder',\n  u'Jun  8, 2004',\n  u'80',\n  u'8.6',\n  u'http://www.metacritic.com/music/the-slow-wonder/ac-newman'],\n [u'A.C. Newman',\n  u'Get Guilty',\n  u'Jan 20, 2009',\n  u'73',\n  u'7.2',\n  u'http://www.metacritic.com/music/get-guilty/ac-newman'],\n [u'A.C. Newman',\n  u'Shut Down The Streets',\n  u'Oct  9, 2012',\n  u'74',\n  u'8.4',\n  u'http://www.metacritic.com/music/shut-down-the-streets/ac-newman'],\n [u'A.R.E. Weapons',\n  u'A.R.E. Weapons',\n  u'Apr  1, 2003',\n  u'64',\n  u'7.6',\n  u'http://www.metacritic.com/music/are-weapons/are-weapons'],\n [u'Aaliyah',\n  u'Aaliyah',\n  u'Jul 17, 2001',\n  u'76',\n  u'9.1',\n  u'http://www.metacritic.com/music/aaliyah/aaliyah'],\n [u'Aaron Espinoza',\n  u'I Heart California',\n  u'Jul 13, 2010',\n  u'61',\n  u'tbd',\n  u'http://www.metacritic.com/music/i-heart-california/jason-lytle'],\n [u'Aaron Dilloway',\n  u'Modern Jester',\n  u'Jan 31, 2012',\n  u'86',\n  u'tbd',\n  u'http://www.metacritic.com/music/modern-jester/aaron-dilloway'],\n [u'Aaron Freeman',\n  u'Marvelous Clouds',\n  u'May  8, 2012',\n  u'74',\n  u'tbd',\n  u'http://www.metacritic.com/music/marvelous-clouds/aaron-freeman'],\n [u'Aaron Neville',\n  u'My True Story',\n  u'Jan 22, 2013',\n  u'75',\n  u'tbd',\n  u'http://www.metacritic.com/music/my-true-story/aaron-neville'],\n [u'Aaron Parks',\n  u'Invisible Cinema',\n  u'Aug 19, 2008',\n  u'88',\n  u'9.0',\n  u'http://www.metacritic.com/music/invisible-cinema/aaron-parks'],\n [u'Aaron West and the Roaring Twenties',\n  u\"We Don't Have Each Other\",\n  u'Jul  8, 2014',\n  u'71',\n  u'tbd',\n  u'http://www.metacritic.com/music/we-dont-have-each-other/aaron-west-and-the-roaring-twenties'],\n [u'Ab-Soul',\n  u'Control System',\n  u'May 11, 2012',\n  u'83',\n  u'8.9',\n  u'http://www.metacritic.com/music/control-system/ab-soul'],\n [u'Ab-Soul',\n  u'These Days...',\n  u'Jun 24, 2014',\n  u'70',\n  u'7.1',\n  u'http://www.metacritic.com/music/-these-days/ab-soul'],\n [u'Abdullah Guinea',\n  u'Fangnawa Experience',\n  u'Nov 13, 2012',\n  u'76',\n  u'tbd',\n  u'http://www.metacritic.com/music/fangnawa-experience/fanga'],\n [u'Abe Vigoda',\n  u'Skeleton',\n  u'Jul  8, 2008',\n  u'83',\n  u'7.8',\n  u'http://www.metacritic.com/music/skeleton/abe-vigoda'],\n [u'Abe Vigoda',\n  u'Reviver [EP]',\n  u'Feb 17, 2009',\n  u'73',\n  u'tbd',\n  u'http://www.metacritic.com/music/reviver-ep/abe-vigoda'],\n [u'Abe Vigoda',\n  u'Crush',\n  u'Sep 28, 2010',\n  u'74',\n  u'8.5',\n  u'http://www.metacritic.com/music/crush/abe-vigoda'],\n [u'Abigail Washburn',\n  u'City of Refuge',\n  u'Jan 11, 2011',\n  u'82',\n  u'tbd',\n  u'http://www.metacritic.com/music/city-of-refuge-2011/abigail-washburn'],\n [u'About Group',\n  u'Start and Complete',\n  u'Apr 26, 2011',\n  u'60',\n  u'tbd',\n  u'http://www.metacritic.com/music/start-and-complete/about-group'],\n [u'About Group',\n  u'Between the Walls',\n  u'Jul  2, 2013',\n  u'66',\n  u'tbd',\n  u'http://www.metacritic.com/music/between-the-walls/about-group'],\n [u'Absentee',\n  u'Victory Shorts',\n  u'Sep 30, 2008',\n  u'74',\n  u'tbd',\n  u'http://www.metacritic.com/music/victory-shorts/absentee'],\n [u'Absolutely Free',\n  u'Absolutely Free',\n  u'Oct 14, 2014',\n  u'78',\n  u'tbd',\n  u'http://www.metacritic.com/music/absolutely-free/absolutely-free'],\n [u'AC/DC',\n  u'Black Ice',\n  u'Oct 20, 2008',\n  u'69',\n  u'7.9',\n  u'http://www.metacritic.com/music/black-ice/acdc'],\n [u'AC/DC',\n  u'Backtracks',\n  u'Nov 10, 2009',\n  u'71',\n  u'7.9',\n  u'http://www.metacritic.com/music/backtracks/acdc'],\n [u'AC/DC',\n  u'Rock or Bust',\n  u'Dec  2, 2014',\n  u'75',\n  u'8.2',\n  u'http://www.metacritic.com/music/rock-or-bust/acdc'],\n [u'Ace Frehley',\n  u'Space Invader',\n  u'Aug 19, 2014',\n  u'59',\n  u'tbd',\n  u'http://www.metacritic.com/music/space-invader/ace-frehley'],\n [u'Ace Hood',\n  u'Trials & Tribulations',\n  u'Jul 16, 2013',\n  u'69',\n  u'7.1',\n  u'http://www.metacritic.com/music/trials-tribulations/ace-hood'],\n [u'Acephalix',\n  u'Deathless Master',\n  u'Apr 24, 2012',\n  u'71',\n  u'tbd',\n  u'http://www.metacritic.com/music/deathless-master/acephalix'],\n [u'Acetone',\n  u'York Blvd',\n  u'Jan 16, 2001',\n  u'69',\n  u'tbd',\n  u'http://www.metacritic.com/music/york-blvd/acetone'],\n [u'Aceyalone',\n  u'Love & Hate',\n  u'Jun  3, 2003',\n  u'66',\n  u'tbd',\n  u'http://www.metacritic.com/music/love-hate/aceyalone'],\n [u'Aceyalone',\n  u'Magnificent City',\n  u'Feb  7, 2006',\n  u'81',\n  u'6.9',\n  u'http://www.metacritic.com/music/magnificent-city/aceyalone'],\n [u'Acid House Kings',\n  u'Music Sounds Better With You',\n  u'Mar 22, 2011',\n  u'81',\n  u'8.3',\n  u'http://www.metacritic.com/music/music-sounds-better-with-you/acid-house-kings'],\n [u'Acid Pauli',\n  u'MST',\n  u'Jul  3, 2012',\n  u'66',\n  u'tbd',\n  u'http://www.metacritic.com/music/mst/acid-pauli'],\n [u'Acoustic Ladyland',\n  u'Living With A Tiger',\n  u'Jul  6, 2009',\n  u'68',\n  u'tbd',\n  u'http://www.metacritic.com/music/living-with-a-tiger/acoustic-ladyland'],\n [u'Acrylics',\n  u'Lives and Treasure',\n  u'Mar  1, 2011',\n  u'69',\n  u'tbd',\n  u'http://www.metacritic.com/music/lives-and-treasure/acrylics'],\n [u'Action Bronson',\n  u'Well-Done',\n  u'Nov 22, 2011',\n  u'79',\n  u'7.4',\n  u'http://www.metacritic.com/music/well-done/statik-selektah'],\n [u'Action Bronson',\n  u'Rare Chandeliers [Mixtape]',\n  u'Nov 15, 2012',\n  u'74',\n  u'7.8',\n  u'http://www.metacritic.com/music/rare-chandeliers-mixtape/action-bronson'],\n [u'Action Bronson',\n  u'Saaab Stories [EP]',\n  u'Jun 11, 2013',\n  u'71',\n  u'7.3',\n  u'http://www.metacritic.com/music/saaab-stories-ep/action-bronson'],\n [u'Action Bronson',\n  u'Mr. Wonderful',\n  u'Mar 24, 2015',\n  u'76',\n  u'7.5',\n  u'http://www.metacritic.com/music/mr-wonderful/action-bronson'],\n [u'Active Child',\n  u'You Are All I See',\n  u'Aug 23, 2011',\n  u'77',\n  u'8.8',\n  u'http://www.metacritic.com/music/you-are-all-i-see/active-child'],\n [u'Active Child',\n  u'Rapor [EP]',\n  u'Oct 22, 2013',\n  u'70',\n  u'8.0',\n  u'http://www.metacritic.com/music/rapor-ep/active-child'],\n [u'Active Child',\n  u'Mercy',\n  u'Jun 16, 2015',\n  u'74',\n  u'6.6',\n  u'http://www.metacritic.com/music/mercy/active-child'],\n [u'Actress',\n  u'Splazsh',\n  u'Jun  8, 2010',\n  u'71',\n  u'7.9',\n  u'http://www.metacritic.com/music/splazsh/actress'],\n [u'Actress',\n  u'R.I.P.',\n  u'Apr 24, 2012',\n  u'81',\n  u'8.4',\n  u'http://www.metacritic.com/music/rip/actress'],\n [u'Actress',\n  u'Silver Cloud [EP]',\n  u'Feb 19, 2013',\n  u'79',\n  u'tbd',\n  u'http://www.metacritic.com/music/silver-cloud-ep/actress'],\n [u'Actress',\n  u'Ghettoville',\n  u'Jan 28, 2014',\n  u'72',\n  u'8.0',\n  u'http://www.metacritic.com/music/ghettoville/actress'],\n [u'Actress',\n  u'DJ-Kicks',\n  u'May  4, 2015',\n  u'73',\n  u'tbd',\n  u'http://www.metacritic.com/music/dj-kicks/actress'],\n [u'Ada',\n  u'Meine Zarten Pfoten',\n  u'Jul  5, 2011',\n  u'64',\n  u'tbd',\n  u'http://www.metacritic.com/music/meine-zarten-pfoten/ada'],\n [u'Adam Ant',\n  u\"Adam Ant Is the BlueBlack Hussar In Marrying The Gunner's Daughter\",\n  u'Jan 22, 2013',\n  u'65',\n  u'8.4',\n  u'http://www.metacritic.com/music/adam-ant-is-the-blueblack-hussar-in-marrying-the-gunners-daughter/adam-ant'],\n [u'Adam Arcuragi',\n  u'Like a Fire That Consumes All Before It...',\n  u'Jan 31, 2012',\n  u'57',\n  u'tbd',\n  u'http://www.metacritic.com/music/like-a-fire-that-consumes-all-before-it/adam-arcuragi'],\n [u'Adam Green',\n  u'Gemstones',\n  u'Feb 22, 2005',\n  u'49',\n  u'7.4',\n  u'http://www.metacritic.com/music/gemstones/adam-green'],\n [u'Adam Green',\n  u'Jacket Full Of Danger',\n  u'Apr 10, 2006',\n  u'68',\n  u'tbd',\n  u'http://www.metacritic.com/music/jacket-full-of-danger/adam-green'],\n [u'Adam Green',\n  u'Sixes & Sevens',\n  u'Mar 18, 2008',\n  u'60',\n  u'8.5',\n  u'http://www.metacritic.com/music/sixes-sevens/adam-green'],\n [u'Adam Green',\n  u'Minor Love',\n  u'Feb 16, 2010',\n  u'70',\n  u'9.0',\n  u'http://www.metacritic.com/music/minor-love/adam-green'],\n [u'Adam Green',\n  u'Adam Green & Binki Shapiro',\n  u'Jan 29, 2013',\n  u'67',\n  u'7.2',\n  u'http://www.metacritic.com/music/adam-green-binki-shapiro/adam-green'],\n [u'Adam Lambert',\n  u'For Your Entertainment',\n  u'Nov 23, 2009',\n  u'71',\n  u'8.4',\n  u'http://www.metacritic.com/music/for-your-entertainment/adam-lambert'],\n [u'Adam Lambert',\n  u'Glam Nation Live',\n  u'Mar 22, 2011',\n  u'tbd',\n  u'7.4',\n  u'http://www.metacritic.com/music/glam-nation-live/adam-lambert'],\n [u'Adam Lambert',\n  u'Trespassing',\n  u'May 15, 2012',\n  u'66',\n  u'7.6',\n  u'http://www.metacritic.com/music/trespassing/adam-lambert'],\n [u'Adam Lambert',\n  u'The Original High',\n  u'Jun 16, 2015',\n  u'70',\n  u'7.4',\n  u'http://www.metacritic.com/music/the-original-high/adam-lambert'],\n [u'Adamski',\n  u'Revolt',\n  u'Mar  3, 2015',\n  u'71',\n  u'tbd',\n  u'http://www.metacritic.com/music/revolt/adamski'],\n [u'Add N to (X)',\n  u'Loud Like Nature',\n  u'Oct 29, 2002',\n  u'76',\n  u'7.5',\n  u'http://www.metacritic.com/music/loud-like-nature/add-n-to-x'],\n [u'Addison Groove',\n  u'Transistor Rhythm',\n  u'Apr  2, 2012',\n  u'70',\n  u'tbd',\n  u'http://www.metacritic.com/music/transistor-rhythm/addison-groove'],\n [u'Addison Groove',\n  u'Addison Groove Presents James Grieve',\n  u'Mar  4, 2014',\n  u'68',\n  u'tbd',\n  u'http://www.metacritic.com/music/addison-groove-presents-james-grieve/addison-groove'],\n [u'Adele',\n  u'19',\n  u'Jun 10, 2008',\n  u'68',\n  u'7.5',\n  u'http://www.metacritic.com/music/19/adele'],\n [u'Adele',\n  u'21',\n  u'Feb 22, 2011',\n  u'76',\n  u'7.7',\n  u'http://www.metacritic.com/music/21/adele']]"
      ]
     },
     "execution_count": 10,
     "output_type": "execute_result",
     "metadata": {}
    }
   ],
   "source": [
    "thelist"
   ]
  },
  {
   "cell_type": "markdown",
   "metadata": {},
   "source": [
    "Now we are ready to move onto the fourth notebook - [Structure the data extraction as a function](metacritic-AOIR-step4.ipynb)"
   ]
  }
 ],
 "metadata": {
  "kernelspec": {
   "display_name": "Python 3",
   "language": "python",
   "name": "python3"
  },
  "language_info": {
   "codemirror_mode": {
    "name": "ipython",
    "version": 3.0
   },
   "file_extension": ".py",
   "mimetype": "text/x-python",
   "name": "python",
   "nbconvert_exporter": "python",
   "pygments_lexer": "ipython3",
   "version": "3.5.0"
  }
 },
 "nbformat": 4,
 "nbformat_minor": 0
}